{
 "cells": [
  {
   "cell_type": "markdown",
   "id": "ff5f1153-5236-4930-a83f-b0e69cfe801e",
   "metadata": {},
   "source": [
    "# IBM Applied Data Science Capstone Project"
   ]
  },
  {
   "cell_type": "markdown",
   "id": "7aca7b90-dcf3-4338-851b-71dfaa88ab91",
   "metadata": {},
   "source": [
    "## Segmenting and Clustering Neighborhoods in Toronto\n",
    "### <font color='lightblue'> Peer Graded Assignment (Week 3) </font>\n",
    "\n",
    "Explore, segment, and cluster the neighborhoods in the city of Toronto based on the postalcode and borough information.."
   ]
  },
  {
   "cell_type": "markdown",
   "id": "7a13d021-3144-4eec-8b7e-497a6961e5f2",
   "metadata": {},
   "source": [
    "<div class=\"alert alert-block alert-info\">\n",
    "    Blue Divider is used for Each Part\n",
    "    <br> \n",
    "    <br>Part 1 -  Webscraping: Get Toronto postal code data from Wikipedia portal\n",
    "    <br>\n",
    "    <br>\n",
    "</div>\n",
    "\n",
    "Toronto postal codes start with \"M\" so use this link - https://en.wikipedia.org/wiki/List_of_postal_codes_of_Canada:_M"
   ]
  },
  {
   "cell_type": "code",
   "execution_count": 1,
   "id": "9eabcde8-f9dd-4c23-b135-9a8b66576bdd",
   "metadata": {},
   "outputs": [],
   "source": [
    "# Import necessary packages\n",
    "import pandas as pd\n",
    "import requests\n",
    "from bs4 import BeautifulSoup"
   ]
  },
  {
   "cell_type": "markdown",
   "id": "5afd42ed-5db7-4990-8538-db2e4f6069e4",
   "metadata": {},
   "source": [
    "#### 1.1 geolocator = Nominatim(user_agent=\"ny_explorer\")"
   ]
  },
  {
   "cell_type": "code",
   "execution_count": 2,
   "id": "745ac929-31f4-4153-92a2-51951af73f88",
   "metadata": {},
   "outputs": [],
   "source": [
    "url = 'https://en.wikipedia.org/wiki/List_of_postal_codes_of_Canada:_M'\n",
    "html_data = requests.get(url).text"
   ]
  },
  {
   "cell_type": "markdown",
   "id": "96d3faeb-4e3c-4f1d-8af6-402f21f992dc",
   "metadata": {},
   "source": [
    "#### 1.2 Create soup object with the extracted html data"
   ]
  },
  {
   "cell_type": "code",
   "execution_count": 3,
   "id": "c7987f1f-d3e4-4067-bf4a-cd1b7dafe416",
   "metadata": {},
   "outputs": [],
   "source": [
    "soup = BeautifulSoup(html_data, 'html.parser')"
   ]
  },
  {
   "cell_type": "markdown",
   "id": "e58610df-e5f3-4f08-b93c-599248ba0998",
   "metadata": {},
   "source": [
    "#### 1.3 Get index of the postal code table"
   ]
  },
  {
   "cell_type": "code",
   "execution_count": 4,
   "id": "be89c344-feab-46f4-a03c-90f9f75d396d",
   "metadata": {},
   "outputs": [
    {
     "name": "stdout",
     "output_type": "stream",
     "text": [
      "Index of postal codes table:  0\n"
     ]
    }
   ],
   "source": [
    "# Select index of the postal code table\n",
    "# loop through each table and select the table that has the string matches \"M1A\" postal code\n",
    "tables = soup.find_all('table')\n",
    "for i, t in enumerate(tables):\n",
    "    if(\"M1A\" in str(t)):\n",
    "        table_index = i\n",
    "        \n",
    "# Index of the postal codes table\n",
    "print('Index of postal codes table: ', table_index)"
   ]
  },
  {
   "cell_type": "markdown",
   "id": "d93f6b69-9166-4369-b0be-e6a28d9130e4",
   "metadata": {},
   "source": [
    "#### 1.4 Extract postal codes from html table"
   ]
  },
  {
   "cell_type": "code",
   "execution_count": 5,
   "id": "c6ee972f-bdd7-4ada-bb18-74510cd31818",
   "metadata": {},
   "outputs": [],
   "source": [
    "table_contents=[]\n",
    "for row in tables[table_index].findAll('td'):\n",
    "    cell = {}\n",
    "    if row.span.text=='Not assigned':\n",
    "        pass\n",
    "    else:\n",
    "        cell['PostalCode'] = row.p.text[:3]\n",
    "        cell['Borough'] = (row.span.text).split('(')[0]\n",
    "        cell['Neighborhood'] = (((((row.span.text).split('(')[1]).strip(')')).replace(' /',',')).replace(')',' ')).strip(' ')\n",
    "        table_contents.append(cell)\n",
    "df_postal_codes = pd.DataFrame(table_contents)"
   ]
  },
  {
   "cell_type": "markdown",
   "id": "afd2cece-adf2-4d63-88c2-1c3703f72eb4",
   "metadata": {},
   "source": [
    "#### 1.5 Clean and verify data"
   ]
  },
  {
   "cell_type": "code",
   "execution_count": 6,
   "id": "55ed69c0-a582-4b2b-bb3b-680e50431605",
   "metadata": {},
   "outputs": [],
   "source": [
    "df_postal_codes['Borough']=df_postal_codes['Borough'].replace({'Downtown TorontoStn A PO Boxes25 The Esplanade':'Downtown Toronto Stn A',\n",
    "                                             'East TorontoBusiness reply mail Processing Centre969 Eastern':'East Toronto Business',\n",
    "                                             'EtobicokeNorthwest':'Etobicoke Northwest','East YorkEast Toronto':'East York/East Toronto',\n",
    "                                             'MississaugaCanada Post Gateway Processing Centre':'Mississauga'})"
   ]
  },
  {
   "cell_type": "code",
   "execution_count": 7,
   "id": "24a540f1-1de9-43d9-afd5-f981f38bde56",
   "metadata": {},
   "outputs": [
    {
     "data": {
      "text/html": [
       "<div>\n",
       "<style scoped>\n",
       "    .dataframe tbody tr th:only-of-type {\n",
       "        vertical-align: middle;\n",
       "    }\n",
       "\n",
       "    .dataframe tbody tr th {\n",
       "        vertical-align: top;\n",
       "    }\n",
       "\n",
       "    .dataframe thead th {\n",
       "        text-align: right;\n",
       "    }\n",
       "</style>\n",
       "<table border=\"1\" class=\"dataframe\">\n",
       "  <thead>\n",
       "    <tr style=\"text-align: right;\">\n",
       "      <th></th>\n",
       "      <th>PostalCode</th>\n",
       "      <th>Borough</th>\n",
       "      <th>Neighborhood</th>\n",
       "    </tr>\n",
       "  </thead>\n",
       "  <tbody>\n",
       "  </tbody>\n",
       "</table>\n",
       "</div>"
      ],
      "text/plain": [
       "Empty DataFrame\n",
       "Columns: [PostalCode, Borough, Neighborhood]\n",
       "Index: []"
      ]
     },
     "execution_count": 7,
     "metadata": {},
     "output_type": "execute_result"
    }
   ],
   "source": [
    "# Validate data \n",
    "df_postal_codes.query('Borough == \"\" | Neighborhood == \"\" | Borough == \"Not assigned\" | Neighborhood == \"Not assigned\"')"
   ]
  },
  {
   "cell_type": "code",
   "execution_count": 8,
   "id": "f51ef503-39f5-4fc3-987f-665758068dfa",
   "metadata": {},
   "outputs": [
    {
     "data": {
      "text/html": [
       "<div>\n",
       "<style scoped>\n",
       "    .dataframe tbody tr th:only-of-type {\n",
       "        vertical-align: middle;\n",
       "    }\n",
       "\n",
       "    .dataframe tbody tr th {\n",
       "        vertical-align: top;\n",
       "    }\n",
       "\n",
       "    .dataframe thead th {\n",
       "        text-align: right;\n",
       "    }\n",
       "</style>\n",
       "<table border=\"1\" class=\"dataframe\">\n",
       "  <thead>\n",
       "    <tr style=\"text-align: right;\">\n",
       "      <th></th>\n",
       "      <th>PostalCode</th>\n",
       "      <th>Borough</th>\n",
       "      <th>Neighborhood</th>\n",
       "    </tr>\n",
       "  </thead>\n",
       "  <tbody>\n",
       "    <tr>\n",
       "      <th>0</th>\n",
       "      <td>M5G</td>\n",
       "      <td>Downtown Toronto</td>\n",
       "      <td>Central Bay Street</td>\n",
       "    </tr>\n",
       "    <tr>\n",
       "      <th>1</th>\n",
       "      <td>M2H</td>\n",
       "      <td>North York</td>\n",
       "      <td>Hillcrest Village</td>\n",
       "    </tr>\n",
       "    <tr>\n",
       "      <th>2</th>\n",
       "      <td>M4B</td>\n",
       "      <td>East York</td>\n",
       "      <td>Parkview Hill, Woodbine Gardens</td>\n",
       "    </tr>\n",
       "    <tr>\n",
       "      <th>3</th>\n",
       "      <td>M1J</td>\n",
       "      <td>Scarborough</td>\n",
       "      <td>Scarborough Village</td>\n",
       "    </tr>\n",
       "    <tr>\n",
       "      <th>4</th>\n",
       "      <td>M4G</td>\n",
       "      <td>East York</td>\n",
       "      <td>Leaside</td>\n",
       "    </tr>\n",
       "    <tr>\n",
       "      <th>5</th>\n",
       "      <td>M4M</td>\n",
       "      <td>East Toronto</td>\n",
       "      <td>Studio District</td>\n",
       "    </tr>\n",
       "    <tr>\n",
       "      <th>6</th>\n",
       "      <td>M1R</td>\n",
       "      <td>Scarborough</td>\n",
       "      <td>Wexford, Maryvale</td>\n",
       "    </tr>\n",
       "    <tr>\n",
       "      <th>7</th>\n",
       "      <td>M9V</td>\n",
       "      <td>Etobicoke</td>\n",
       "      <td>South Steeles, Silverstone, Humbergate, Jamest...</td>\n",
       "    </tr>\n",
       "    <tr>\n",
       "      <th>8</th>\n",
       "      <td>M9L</td>\n",
       "      <td>North York</td>\n",
       "      <td>Humber Summit</td>\n",
       "    </tr>\n",
       "    <tr>\n",
       "      <th>9</th>\n",
       "      <td>M5V</td>\n",
       "      <td>Downtown Toronto</td>\n",
       "      <td>CN Tower, King and Spadina, Railway Lands, Har...</td>\n",
       "    </tr>\n",
       "    <tr>\n",
       "      <th>10</th>\n",
       "      <td>M1B</td>\n",
       "      <td>Scarborough</td>\n",
       "      <td>Malvern, Rouge</td>\n",
       "    </tr>\n",
       "    <tr>\n",
       "      <th>11</th>\n",
       "      <td>M5A</td>\n",
       "      <td>Downtown Toronto</td>\n",
       "      <td>Regent Park, Harbourfront</td>\n",
       "    </tr>\n",
       "  </tbody>\n",
       "</table>\n",
       "</div>"
      ],
      "text/plain": [
       "   PostalCode           Borough  \\\n",
       "0         M5G  Downtown Toronto   \n",
       "1         M2H        North York   \n",
       "2         M4B         East York   \n",
       "3         M1J       Scarborough   \n",
       "4         M4G         East York   \n",
       "5         M4M      East Toronto   \n",
       "6         M1R       Scarborough   \n",
       "7         M9V         Etobicoke   \n",
       "8         M9L        North York   \n",
       "9         M5V  Downtown Toronto   \n",
       "10        M1B       Scarborough   \n",
       "11        M5A  Downtown Toronto   \n",
       "\n",
       "                                         Neighborhood  \n",
       "0                                  Central Bay Street  \n",
       "1                                   Hillcrest Village  \n",
       "2                     Parkview Hill, Woodbine Gardens  \n",
       "3                                 Scarborough Village  \n",
       "4                                             Leaside  \n",
       "5                                     Studio District  \n",
       "6                                   Wexford, Maryvale  \n",
       "7   South Steeles, Silverstone, Humbergate, Jamest...  \n",
       "8                                       Humber Summit  \n",
       "9   CN Tower, King and Spadina, Railway Lands, Har...  \n",
       "10                                     Malvern, Rouge  \n",
       "11                          Regent Park, Harbourfront  "
      ]
     },
     "execution_count": 8,
     "metadata": {},
     "output_type": "execute_result"
    }
   ],
   "source": [
    "df_test_codes = pd.DataFrame({'PostalCode':['M5G', 'M2H', 'M4B', 'M1J', 'M4G', 'M4M', 'M1R', 'M9V', 'M9L', 'M5V', 'M1B', 'M5A']})\n",
    "df_test_codes.merge(df_postal_codes, on='PostalCode', how='left')"
   ]
  },
  {
   "cell_type": "markdown",
   "id": "8c040afa-9f69-4f7b-85a4-778cd3d2de29",
   "metadata": {},
   "source": [
    "#### <font color='red'> ..... Part 1 output </font>"
   ]
  },
  {
   "cell_type": "code",
   "execution_count": 9,
   "id": "f1d16257-3403-4b57-9371-8fe9c1aa34ed",
   "metadata": {},
   "outputs": [
    {
     "data": {
      "text/plain": [
       "(103, 3)"
      ]
     },
     "execution_count": 9,
     "metadata": {},
     "output_type": "execute_result"
    }
   ],
   "source": [
    "df_postal_codes.shape"
   ]
  },
  {
   "cell_type": "markdown",
   "id": "4216dd6d-1de3-4aea-bfb6-5aa7cae927f2",
   "metadata": {},
   "source": [
    "#### <font color='red'> ***** End of Part 1 *****</font>"
   ]
  }
 ],
 "metadata": {
  "kernelspec": {
   "display_name": "Python 3",
   "language": "python",
   "name": "python3"
  },
  "language_info": {
   "codemirror_mode": {
    "name": "ipython",
    "version": 3
   },
   "file_extension": ".py",
   "mimetype": "text/x-python",
   "name": "python",
   "nbconvert_exporter": "python",
   "pygments_lexer": "ipython3",
   "version": "3.9.5"
  }
 },
 "nbformat": 4,
 "nbformat_minor": 5
}
