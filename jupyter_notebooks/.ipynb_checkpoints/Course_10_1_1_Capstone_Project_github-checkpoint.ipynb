{
 "cells": [
  {
   "cell_type": "markdown",
   "id": "ff5f1153-5236-4930-a83f-b0e69cfe801e",
   "metadata": {},
   "source": [
    "# IBM Applied Data Science Capstone Project"
   ]
  },
  {
   "cell_type": "markdown",
   "id": "7aca7b90-dcf3-4338-851b-71dfaa88ab91",
   "metadata": {},
   "source": [
    "## This notebook will be mainly used for the capstone project"
   ]
  },
  {
   "cell_type": "markdown",
   "id": "65c1b168-475b-4b9f-b7ab-c38764855d3f",
   "metadata": {},
   "source": [
    "#### This is 1st Jupyter Notebook and is part of Course 10 in IBM Data Science Professional Certification"
   ]
  },
  {
   "cell_type": "code",
   "execution_count": 1,
   "id": "5b406b87-fdd6-410c-88bb-35fcee6a51bc",
   "metadata": {},
   "outputs": [],
   "source": [
    "import pandas as pd\n",
    "import numpy as np"
   ]
  },
  {
   "cell_type": "code",
   "execution_count": 2,
   "id": "f6a5250c-2214-43f0-b001-c228232fe66d",
   "metadata": {},
   "outputs": [
    {
     "name": "stdout",
     "output_type": "stream",
     "text": [
      "Hello Capstone Project Course!\n"
     ]
    }
   ],
   "source": [
    "print('Hello Capstone Project Course!')"
   ]
  },
  {
   "cell_type": "markdown",
   "id": "6b06e3bc-7658-4732-a3d2-e1c86d9c57a4",
   "metadata": {},
   "source": [
    "#### End of 1st notebook"
   ]
  }
 ],
 "metadata": {
  "kernelspec": {
   "display_name": "Python 3",
   "language": "python",
   "name": "python3"
  },
  "language_info": {
   "codemirror_mode": {
    "name": "ipython",
    "version": 3
   },
   "file_extension": ".py",
   "mimetype": "text/x-python",
   "name": "python",
   "nbconvert_exporter": "python",
   "pygments_lexer": "ipython3",
   "version": "3.9.5"
  }
 },
 "nbformat": 4,
 "nbformat_minor": 5
}
